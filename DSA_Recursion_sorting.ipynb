{
 "cells": [
  {
   "cell_type": "code",
   "execution_count": 1,
   "id": "aca1ff68",
   "metadata": {},
   "outputs": [],
   "source": [
    "class MyHashMap:\n",
    "\n",
    "    def __init__(self):\n",
    "        self.size = 1000001  # Key range: 0 to 1,000,000\n",
    "        self.data = [-1] * self.size\n",
    "\n",
    "    def put(self, key: int, value: int) -> None:\n",
    "        self.data[key] = value\n",
    "\n",
    "    def get(self, key: int) -> int:\n",
    "        return self.data[key]\n",
    "\n",
    "    def remove(self, key: int) -> None:\n",
    "        self.data[key] = -1\n",
    "\n",
    "\n",
    "# Your MyHashMap object will be instantiated and called as such:\n",
    "# obj = MyHashMap()\n",
    "# obj.put(key,value)\n",
    "# param_2 = obj.get(key)\n",
    "# obj.remove(key)"
   ]
  },
  {
   "cell_type": "code",
   "execution_count": 2,
   "id": "301bfbd5",
   "metadata": {},
   "outputs": [],
   "source": [
    "class MinStack:\n",
    "\n",
    "    def __init__(self):\n",
    "        # Main stack to store all values\n",
    "        self.stack = []\n",
    "        # Auxiliary stack to store the minimum value at each level\n",
    "        self.min_stack = []\n",
    "\n",
    "    def push(self, val: int) -> None:\n",
    "        self.stack.append(val)\n",
    "        # Update the min_stack with the new minimum\n",
    "        if not self.min_stack or val <= self.min_stack[-1]:\n",
    "            self.min_stack.append(val)\n",
    "\n",
    "    def pop(self) -> None:\n",
    "        # Pop from the main stack\n",
    "        if self.stack:\n",
    "            popped_value = self.stack.pop()\n",
    "            # If the popped value is the current minimum, remove it from min_stack\n",
    "            if popped_value == self.min_stack[-1]:\n",
    "                self.min_stack.pop()\n",
    "\n",
    "    def top(self) -> int:\n",
    "        # Return the top element of the main stack\n",
    "        if self.stack:\n",
    "            return self.stack[-1]\n",
    "        return None\n",
    "\n",
    "    def getMin(self) -> int:\n",
    "        # Return the top element of the min_stack (the current minimum)\n",
    "        if self.min_stack:\n",
    "            return self.min_stack[-1]\n",
    "        return None\n",
    "\n",
    "        \n",
    "\n",
    "\n",
    "# Your MinStack object will be instantiated and called as such:\n",
    "# obj = MinStack()\n",
    "# obj.push(val)\n",
    "# obj.pop()\n",
    "# param_3 = obj.top()\n",
    "# param_4 = obj.getMin()"
   ]
  },
  {
   "cell_type": "code",
   "execution_count": 20,
   "id": "33164454",
   "metadata": {},
   "outputs": [
    {
     "name": "stdout",
     "output_type": "stream",
     "text": [
      "123000\n"
     ]
    }
   ],
   "source": [
    "class Solution:\n",
    "    def wordsToNumber(self, s: str) -> int:\n",
    "        word_to_num = {\n",
    "            \"zero\": 0, \"one\": 1, \"two\": 2, \"three\": 3, \"four\": 4, \"five\": 5, \n",
    "            \"six\": 6, \"seven\": 7, \"eight\": 8, \"nine\": 9, \"ten\": 10, \"eleven\": 11, \n",
    "            \"twelve\": 12, \"thirteen\": 13, \"fourteen\": 14, \"fifteen\": 15, \n",
    "            \"sixteen\": 16, \"seventeen\": 17, \"eighteen\": 18, \"nineteen\": 19,\n",
    "            \"twenty\": 20, \"thirty\": 30, \"forty\": 40, \"fifty\": 50, \"sixty\": 60,\n",
    "            \"seventy\": 70, \"eighty\": 80, \"ninety\": 90\n",
    "        }\n",
    "        unit_to_multiplier = {\n",
    "            \"hundred\":100,\"thousand\": 1000, \"million\": 10**6, \"billion\": 10**9\n",
    "        }\n",
    "        \n",
    "        words = s.split()\n",
    "        result = 0\n",
    "        current_number = 0\n",
    "        \n",
    "        # Traverse through the words\n",
    "        for word in words:\n",
    "            if word in word_to_num:\n",
    "                # Add number to the current segment\n",
    "                current_number += word_to_num[word]\n",
    "            elif word == \"hundred\":\n",
    "                # Multiply current_number by 100 when we encounter \"hundred\"\n",
    "                current_number *= 100\n",
    "            elif word in unit_to_multiplier:\n",
    "                # When we encounter a large unit, we multiply and add to result\n",
    "                current_number *= unit_to_multiplier[word]\n",
    "                result += current_number\n",
    "                current_number = 0  # Reset current_number after applying multiplier\n",
    "        \n",
    "        # Finally, add any remaining current_number to the result\n",
    "        result += current_number\n",
    "        \n",
    "        return result\n",
    "\n",
    "# Example usage\n",
    "s = \"one hundred twenty three thousand\"\n",
    "solution = Solution()\n",
    "print(solution.wordsToNumber(s))  # Output: 123456789\n"
   ]
  },
  {
   "cell_type": "code",
   "execution_count": null,
   "id": "0f066e91",
   "metadata": {},
   "outputs": [],
   "source": [
    "\n",
    "def pair_sum_sorted_array(numbers, target):\n",
    "    \"\"\"\n",
    "    Args:\n",
    "     numbers(list_int32)\n",
    "     target(int32)\n",
    "    Returns:\n",
    "     list_int32\n",
    "    \"\"\"\n",
    "    i=0\n",
    "    j=len(numbers)-1\n",
    "\n",
    "    while i<j:\n",
    "        if numbers[i]+numbers[j]==target:\n",
    "            return [i,j]\n",
    "        elif numbers[i]+numbers[j]<target:\n",
    "            i+=1\n",
    "        else:\n",
    "            j-=1\n",
    "    return [-1,-1]"
   ]
  },
  {
   "cell_type": "markdown",
   "id": "cec7e67a",
   "metadata": {},
   "source": [
    "#### 2 sum in array unsorted"
   ]
  },
  {
   "cell_type": "code",
   "execution_count": 21,
   "id": "a20304c3",
   "metadata": {},
   "outputs": [],
   "source": [
    "def two_sum(numbers, target):\n",
    "    n = len(numbers)\n",
    "    array_index = {}\n",
    "    for i in range(n):\n",
    "        current = numbers[i]\n",
    "        required = target - current  # complementary target pair\n",
    "\n",
    "        if required in array_index:\n",
    "            return [i, array_index[required]]\n",
    "\n",
    "        # Add every element to map after checking for required.\n",
    "        # This ensures that element does not match itself (indices to be unique).\n",
    "        array_index[current] = i\n",
    "\n",
    "    return [-1, -1]"
   ]
  },
  {
   "cell_type": "code",
   "execution_count": 24,
   "id": "4c128dbe",
   "metadata": {},
   "outputs": [],
   "source": [
    "def can_attend_all_meetings(intervals):\n",
    "    \"\"\"\n",
    "    Args:\n",
    "     intervals(list_list_int32)\n",
    "    Returns:\n",
    "     int32\n",
    "    \"\"\"\n",
    "    # Write your code here.\n",
    "\n",
    "    intervals = sorted(intervals, key=lambda x: x[0])\n",
    "    \n",
    "    for i in range(1, len(intervals)):\n",
    "        if intervals[i][0] <  intervals[i-1][1]:\n",
    "            return 0\n",
    "    return 1\n",
    "\n",
    "\n",
    "#brute force\n",
    "\n",
    "def can_attend_all_meetings(intervals):\n",
    "    for i in range(len(intervals)):\n",
    "        for j in range(i + 1, len(intervals)):\n",
    "            # If overlap found, return 0.\n",
    "            if not (\n",
    "                intervals[i][1] <= intervals[j][0] or\n",
    "                intervals[j][1] <= intervals[i][0]\n",
    "            ):\n",
    "                return 0\n",
    "    return 1\n"
   ]
  },
  {
   "cell_type": "code",
   "execution_count": 27,
   "id": "3db6a8c9",
   "metadata": {},
   "outputs": [],
   "source": [
    "#Brute Force\n",
    "def find_intersection(arr1, arr2, arr3):\n",
    "    result = []\n",
    "\n",
    "    for i in range(len(arr1)):\n",
    "        counts = 0\n",
    "\n",
    "        for j in range(len(arr2)):\n",
    "            # First common element will be used and marked as -1.\n",
    "            if arr2[j] == arr1[i]:\n",
    "                counts += 1\n",
    "                # To stop when first occurrence is matched.\n",
    "                break\n",
    "\n",
    "        for k in range(len(arr3)):\n",
    "            # First common element will be used and marked as -1.\n",
    "            if arr3[k] == arr1[i]:\n",
    "                counts += 1\n",
    "                # To stop when first occurrence is matched.\n",
    "                break\n",
    "\n",
    "        if counts == 2:\n",
    "            result.append(arr1[i])\n",
    "            arr2[j] = -1\n",
    "            arr3[k] = -1\n",
    "\n",
    "    if len(result) == 0:\n",
    "        result.append(-1)\n",
    "\n",
    "    return result\n",
    "\n",
    "#way1 -  3 pointers\n",
    "\n",
    "def find_intersection(arr1, arr2, arr3):\n",
    "    \"\"\"\n",
    "    Args:\n",
    "     arr1(list_int32)\n",
    "     arr2(list_int32)\n",
    "     arr3(list_int32)\n",
    "    Returns:\n",
    "     list_int32\n",
    "    \"\"\"\n",
    "    # Write your code here.\n",
    "    i=0\n",
    "    j=0\n",
    "    k=0\n",
    "    result=[]\n",
    "    while i<len(arr1) and j<len(arr2) and k<len(arr3):\n",
    "        if arr1[i]==arr2[j]==arr3[k]:\n",
    "            result.append(arr1[i])\n",
    "            i+=1\n",
    "            j+=1\n",
    "            k+=1\n",
    "        else:\n",
    "            if arr1[i] < arr2[j]:\n",
    "                i += 1\n",
    "            elif arr2[j] < arr3[k]:\n",
    "                j += 1\n",
    "            else:\n",
    "                k += 1\n",
    "    if not result:\n",
    "        return [-1]\n",
    "    else:\n",
    "        return result\n",
    "    \n",
    "\n",
    "#alternate\n",
    "def find_intersection(arr1, arr2, arr3):\n",
    "    \"\"\"\n",
    "    Args:\n",
    "     arr1(list_int32)\n",
    "     arr2(list_int32)\n",
    "     arr3(list_int32)\n",
    "    Returns:\n",
    "     list_int32\n",
    "    \"\"\"\n",
    "    # Write your code here.\n",
    "    if not arr1 or not arr2 or not arr3:\n",
    "        return [-1]\n",
    "        \n",
    "    a = arr1.pop()\n",
    "    b = arr2.pop()\n",
    "    c = arr3.pop()\n",
    "    \n",
    "    result = []\n",
    "  \n",
    "    try:\n",
    "      while True:\n",
    "        if (a == b == c):\n",
    "            result.append(a)\n",
    "            a = arr1.pop()\n",
    "            b = arr2.pop()\n",
    "            c = arr3.pop()     \n",
    "        elif (a >= b):\n",
    "            if (a >= c):\n",
    "                a = arr1.pop()\n",
    "            else:\n",
    "                c = arr3.pop()\n",
    "        elif (a < b):\n",
    "            if(b>=c):\n",
    "                b = arr2.pop()\n",
    "            else: \n",
    "                c = arr3.pop()\n",
    "    except IndexError:\n",
    "        pass\n",
    "    result.reverse()\n",
    "    return result or [-1]\n",
    "\n",
    "# we can find min of the 3 and then increase that by 1 for the else conditions"
   ]
  },
  {
   "cell_type": "code",
   "execution_count": 4,
   "id": "0009b1ed",
   "metadata": {},
   "outputs": [
    {
     "data": {
      "text/plain": [
       "True"
      ]
     },
     "execution_count": 4,
     "metadata": {},
     "output_type": "execute_result"
    }
   ],
   "source": [
    "# prime numbers\n",
    "\n",
    "def isprime(n):\n",
    "    if n==1:\n",
    "        return False\n",
    "    i=2\n",
    "    while(i*i<=n):\n",
    "        if n%i==0:\n",
    "            return False\n",
    "        i+=1\n",
    "    return True\n",
    "\n",
    "isprime(557)"
   ]
  },
  {
   "cell_type": "code",
   "execution_count": 9,
   "id": "07fed236",
   "metadata": {},
   "outputs": [
    {
     "name": "stdout",
     "output_type": "stream",
     "text": [
      "2 3 5 7 "
     ]
    }
   ],
   "source": [
    "# primes until n\n",
    "\n",
    "def primesTilln(n):\n",
    "    if n<=1:\n",
    "        return\n",
    "    isprime=[True]*(n+1)\n",
    "    i=2\n",
    "    while i<=n:\n",
    "        if isprime[i]:\n",
    "            print(i,end=' ')\n",
    "            for j in range(i*i,n+1,i):\n",
    "                isprime[j]=False\n",
    "        i+=1\n",
    "sieve(8)"
   ]
  },
  {
   "cell_type": "code",
   "execution_count": 10,
   "id": "59a3ebc0",
   "metadata": {},
   "outputs": [
    {
     "data": {
      "text/plain": [
       "1024"
      ]
     },
     "execution_count": 10,
     "metadata": {},
     "output_type": "execute_result"
    }
   ],
   "source": [
    "def pow(x,n):\n",
    "    res =1\n",
    "    while n>0:\n",
    "        if n%2!=0:\n",
    "            res=res*x\n",
    "        x=x*x\n",
    "        n=n//2\n",
    "    return res\n",
    "\n",
    "pow(2,10)"
   ]
  },
  {
   "cell_type": "code",
   "execution_count": 12,
   "id": "7b47e24a",
   "metadata": {},
   "outputs": [
    {
     "data": {
      "text/plain": [
       "[8, 6, 78, 34, 8, 34, 65, 9, 9, 45]"
      ]
     },
     "execution_count": 12,
     "metadata": {},
     "output_type": "execute_result"
    }
   ],
   "source": [
    "def segregate_evens_and_odds(numbers):\n",
    "    \"\"\"\n",
    "    Args:\n",
    "     numbers(list_int32)\n",
    "    Returns:\n",
    "     list_int32\n",
    "    \"\"\"\n",
    "    # Write your code here.\n",
    "    i=0\n",
    "    j=len(numbers)-1\n",
    "    while i<=j:\n",
    "        if numbers[i]%2==0:\n",
    "            i+=1\n",
    "        elif numbers[j]%2!=0:\n",
    "            j-=1\n",
    "        else:\n",
    "            numbers[i],numbers[j]=numbers[j],numbers[i]\n",
    "            i+=1\n",
    "            j-=1\n",
    "    return numbers\n",
    "a=[45,6,9,34,8,34,65,78,9,8]\n",
    "segregate_evens_and_odds(a)"
   ]
  },
  {
   "cell_type": "code",
   "execution_count": 22,
   "id": "7e4101d9",
   "metadata": {},
   "outputs": [
    {
     "data": {
      "text/plain": [
       "['R', 'G', 'R', 'G', 'R', 'R', 'G', 'B', 'G', 'B', 'B', 'B', 'B', 'B']"
      ]
     },
     "execution_count": 22,
     "metadata": {},
     "output_type": "execute_result"
    }
   ],
   "source": [
    "\n",
    "def dutch_flag_sort(balls):\n",
    "    \"\"\"\n",
    "    Args:\n",
    "     balls(list_char)\n",
    "    Returns:\n",
    "     list_char\n",
    "    \"\"\"\n",
    "    i=0\n",
    "    curr=0\n",
    "    j=len(balls)-1\n",
    "    while curr<=j:\n",
    "        if balls[curr]==\"R\":\n",
    "            balls[i],balls[curr]=balls[curr],balls[i]\n",
    "            i+=1\n",
    "            curr+=1\n",
    "        elif balls[curr]==\"B\":\n",
    "            balls[j],balls[curr]=balls[curr],balls[j]\n",
    "            j-=1\n",
    "        else:\n",
    "           curr+=1\n",
    "    return balls\n",
    "\n",
    "balls=[\"R\",\"B\",\"R\",\"B\",\"G\",\"G\",\"R\",\"B\",\"R\",\"B\",\"G\",\"G\",\"B\",\"B\"]\n",
    "dutch_flag_sort(balls)"
   ]
  },
  {
   "cell_type": "code",
   "execution_count": 23,
   "id": "e8ac070e",
   "metadata": {},
   "outputs": [],
   "source": [
    "# 3 sum\n",
    "\n",
    "def find_zero_sum(arr):\n",
    "    # Write your code here.\n",
    "    ans=set()\n",
    "    arr.sort()\n",
    "    for index in range(len(arr)):\n",
    "        curr=arr[index]\n",
    "        req=-curr\n",
    "        left=index+1\n",
    "        right=len(arr)-1\n",
    "        while left<right:\n",
    "            if arr[left]+arr[right]==req:\n",
    "                ans.add(f\"{curr},{arr[left]},{arr[right]}\")\n",
    "                left+=1\n",
    "            elif arr[left]+arr[right]<req:\n",
    "                left+=1\n",
    "            else:\n",
    "                right-=1\n",
    "    return list(ans)"
   ]
  },
  {
   "cell_type": "code",
   "execution_count": null,
   "id": "2faf28c9",
   "metadata": {},
   "outputs": [],
   "source": [
    "def tower_of_hanoi(n):\n",
    "    answer = []\n",
    "    tower_of_hanoi_util(n, 1, 3, 2, answer)\n",
    "    return answer\n",
    "\n",
    "def tower_of_hanoi_util(n, from_peg, to_peg, aux_peg, answer):\n",
    "    # If reached at condition when n equal to one.\n",
    "    if n == 1:\n",
    "        # As it is last disk we shift it from from_peg to to_peg\n",
    "        temp = [from_peg, to_peg]\n",
    "        answer.append(temp)\n",
    "        return\n",
    "    # Call the function to shift top n - 1 disks from from_peg to\n",
    "    # aux_peg using to_peg.\n",
    "    tower_of_hanoi_util(n - 1, from_peg, aux_peg, to_peg, answer)\n",
    "\n",
    "    # Store the step of moving of 1 top disk from from_peg to to_peg\n",
    "    temp = [from_peg, to_peg]\n",
    "    answer.append(temp)\n",
    "\n",
    "    # Shifting back remanining n - 1 disks from aux_peg to to_peg using from_peg\n",
    "    tower_of_hanoi_util(n - 1, aux_peg, to_peg, from_peg, answer)"
   ]
  },
  {
   "cell_type": "code",
   "execution_count": 25,
   "id": "db56eefc",
   "metadata": {},
   "outputs": [
    {
     "name": "stdout",
     "output_type": "stream",
     "text": [
      "00\n",
      "01\n",
      "10\n",
      "11\n"
     ]
    }
   ],
   "source": [
    "def binarystrings(slate,n):\n",
    "    if n==0:\n",
    "        print(slate)\n",
    "    else:\n",
    "        binarystrings(slate+\"0\",n-1)\n",
    "        binarystrings(slate+\"1\",n-1)\n",
    "def printbs(n):\n",
    "    binarystrings(\"\",n)\n",
    "printbs(2)"
   ]
  },
  {
   "cell_type": "code",
   "execution_count": 80,
   "id": "8e7d4bd7",
   "metadata": {},
   "outputs": [
    {
     "name": "stdout",
     "output_type": "stream",
     "text": [
      "123\n",
      "132\n",
      "213\n",
      "231\n",
      "312\n",
      "321\n"
     ]
    }
   ],
   "source": [
    "def permutations(n):\n",
    "    permhelper([],list(n))\n",
    "def permhelper(slate,n):\n",
    "    if not n:\n",
    "        print(\"\".join(slate))\n",
    "    else:\n",
    "        for i in range(len(n)):\n",
    "            permhelper(slate + [n[i]], n[:i] + n[i+1:])\n",
    "arr=\"123\"\n",
    "permutations(arr)"
   ]
  },
  {
   "cell_type": "code",
   "execution_count": 106,
   "id": "18582eff",
   "metadata": {},
   "outputs": [
    {
     "data": {
      "text/plain": [
       "['', 'y', 'x', 'xy']"
      ]
     },
     "execution_count": 106,
     "metadata": {},
     "output_type": "execute_result"
    }
   ],
   "source": [
    "def generate_all_subsets(s):\n",
    "\n",
    "    result=[]\n",
    "    helper(s,\"\",0,result)\n",
    "    return result\n",
    "\n",
    "def helper(s,slate,i,result):\n",
    "    if i==len(s):\n",
    "        result.append(slate)\n",
    "        return\n",
    "    helper(s,slate,i+1,result)\n",
    "    helper(s,slate+s[i],i+1,result)\n",
    "s= \"xy\"\n",
    "generate_all_subsets(s)"
   ]
  },
  {
   "cell_type": "code",
   "execution_count": 108,
   "id": "6ce485c1",
   "metadata": {},
   "outputs": [
    {
     "data": {
      "text/plain": [
       "[[], [3], [2], [2, 3], [1], [1, 3], [1, 2], [1, 2, 3]]"
      ]
     },
     "execution_count": 108,
     "metadata": {},
     "output_type": "execute_result"
    }
   ],
   "source": [
    "# mutable soultion\n",
    "\n",
    "def printsubsets(s):\n",
    "    result = []\n",
    "    helper([], 0, s,result)\n",
    "    return result\n",
    "\n",
    "def helper(slate, i, s,result):\n",
    "    if len(s) == i:\n",
    "        result.append(slate[:])  # Add a copy of the current slate\n",
    "        return \n",
    "    else:\n",
    "        helper(slate, i + 1, s,result)   # Exclude s[i]\n",
    "        slate.append(s[i])        # Include s[i]\n",
    "        helper(slate, i + 1, s,result)\n",
    "        slate.pop()  \n",
    "        \n",
    "printsubsets([1,2,3])"
   ]
  },
  {
   "cell_type": "code",
   "execution_count": 75,
   "id": "094ea5a0",
   "metadata": {},
   "outputs": [
    {
     "data": {
      "text/plain": [
       "['a12', 'A12']"
      ]
     },
     "execution_count": 75,
     "metadata": {},
     "output_type": "execute_result"
    }
   ],
   "source": [
    "def letter_case_permutations(s):\n",
    "    result=[]\n",
    "    helper(\"\",s,0,result)\n",
    "    return (result)\n",
    "    # Write your code here.\n",
    "def helper(slate,s,i,result):\n",
    "\n",
    "    if len(s)==i:\n",
    "        result.append(slate)\n",
    "        return\n",
    "    if s[i].isdigit():\n",
    "        helper(slate+s[i],s,i+1,result)\n",
    "    else:\n",
    "        helper(slate+s[i].lower(),s,i+1,result)\n",
    "        helper(slate+s[i].upper(),s,i+1,result)\n",
    "        \n",
    "\n",
    "\n",
    "s=\"a12\"\n",
    "letter_case_permutations(s)"
   ]
  },
  {
   "cell_type": "code",
   "execution_count": null,
   "id": "be2205b8",
   "metadata": {},
   "outputs": [],
   "source": [
    "def letter_case_permutations(s):\n",
    "    result = []\n",
    "    helper(list(s), 0, result)  # Pass list instead of string\n",
    "    return [''.join(slate) for slate in result]  # Join list to string at the end\n",
    "\n",
    "def helper(slate, i, result):\n",
    "    if i == len(slate):\n",
    "        result.append(slate[:])  # Append a copy of the current slate (mutable list)\n",
    "        return\n",
    "    \n",
    "    if slate[i].isdigit():  # If the current character is a digit, keep it as is\n",
    "        helper(slate, i + 1, result)\n",
    "    else:  # If it's a letter, generate both lowercase and uppercase\n",
    "        # Change to lowercase and recurse\n",
    "        slate[i] = slate[i].lower()\n",
    "        helper(slate, i + 1, result)\n",
    "        \n",
    "        # Change to uppercase and recurse\n",
    "        slate[i] = slate[i].upper()\n",
    "        helper(slate, i + 1, result)\n",
    "        slate[i] = slate[i].lower()  # Backtrack (restore to lowercase"
   ]
  },
  {
   "cell_type": "code",
   "execution_count": 79,
   "id": "cb6ea1a2",
   "metadata": {},
   "outputs": [
    {
     "data": {
      "text/plain": [
       "[[3, 4], [2, 4], [2, 3], [1, 4], [1, 3], [1, 2]]"
      ]
     },
     "execution_count": 79,
     "metadata": {},
     "output_type": "execute_result"
    }
   ],
   "source": [
    "def find_combinations(n, k):\n",
    "    \"\"\"\n",
    "    Args:\n",
    "     n(int32)\n",
    "     k(int32)\n",
    "    Returns:\n",
    "     list_list_int32\n",
    "    \"\"\"\n",
    "    result=[]\n",
    "    helper(n,1,k,[],result)\n",
    "    return result\n",
    "def helper(n,i,k,slate,result):\n",
    "    if len(slate)==k:\n",
    "        result.append(slate[:])\n",
    "        return\n",
    "    if i>n:\n",
    "        return\n",
    "    \n",
    "    helper(n,i+1,k,slate,result)\n",
    "    slate.append(i)\n",
    "    helper(n,i+1,k,slate,result)\n",
    "    slate.pop()\n",
    "        \n",
    "find_combinations(4, 2)"
   ]
  },
  {
   "cell_type": "code",
   "execution_count": 85,
   "id": "f7701583",
   "metadata": {},
   "outputs": [
    {
     "data": {
      "text/plain": [
       "[[4, 3, 1], [4, 1, 3], [3, 4, 1], [3, 1, 4], [1, 3, 4], [1, 4, 3]]"
      ]
     },
     "execution_count": 85,
     "metadata": {},
     "output_type": "execute_result"
    }
   ],
   "source": [
    "def get_permutations(arr):\n",
    "    result=[]\n",
    "    helper(arr,0,[],result)\n",
    "    return result\n",
    "def helper(arr,i,slate,result):\n",
    "    if i==len(arr):\n",
    "        result.append(slate[:])\n",
    "        return\n",
    "    for curr in range(i,len(arr)):\n",
    "        arr[curr],arr[i]=arr[i],arr[curr]\n",
    "        slate.append(arr[i])\n",
    "        helper(arr,i+1,slate,result)\n",
    "        slate.pop()\n",
    "        arr[curr],arr[i]=arr[i],arr[curr]\n",
    "\n",
    "arr=[4,3,1]        \n",
    "get_permutations(arr)"
   ]
  },
  {
   "cell_type": "code",
   "execution_count": 102,
   "id": "55a8e8fb",
   "metadata": {},
   "outputs": [
    {
     "data": {
      "text/plain": [
       "['', 'b', 'a', 'ab', 'aa', 'aab']"
      ]
     },
     "execution_count": 102,
     "metadata": {},
     "output_type": "execute_result"
    }
   ],
   "source": [
    "\n",
    "def get_subsets(s, index, current, subsets):\n",
    "    if index == len(s):\n",
    "        subsets.append(current)\n",
    "        return\n",
    "\n",
    "    end = index + 1\n",
    "    while end < len(s) and s[end] == s[index]:\n",
    "        end += 1\n",
    "\n",
    "    # s[index] can be inserted 0 times or 1 times or 2 times ... or (end - index) number of times.\n",
    "    count = 0\n",
    "    add = \"\"\n",
    "\n",
    "    get_subsets(s, end, current + add, subsets)\n",
    "    while count < end - index:\n",
    "        add += s[index]\n",
    "\n",
    "        # Recurring for index = end so as to skip all the occurrences of s[index].\n",
    "        get_subsets(s, end, current + add, subsets)\n",
    "        count += 1\n",
    "\n",
    "def get_distinct_subsets(s):\n",
    "    subsets = []\n",
    "\n",
    "    # We need to make sure that all the subsets are individually sorted.\n",
    "    s = sorted(s)\n",
    "\n",
    "    get_subsets(s, 0, \"\", subsets)\n",
    "    return subsets\n",
    "\n",
    "\n",
    "s=\"aab\"\n",
    "get_distinct_subsets(s)"
   ]
  },
  {
   "cell_type": "code",
   "execution_count": 103,
   "id": "456e0790",
   "metadata": {},
   "outputs": [
    {
     "name": "stdout",
     "output_type": "stream",
     "text": [
      "['', 'a', 'aa', 'aab', 'ab', 'b']\n"
     ]
    }
   ],
   "source": [
    "def subsets_with_duplicates(s):\n",
    "    \"\"\"\n",
    "    Args:\n",
    "     s(str)\n",
    "    Returns:\n",
    "     list_list_str\n",
    "    \"\"\"\n",
    "    result = []\n",
    "    s = sorted(s)  # Sort the string to handle duplicates\n",
    "    helper(s, 0, [], result)\n",
    "    return result\n",
    "\n",
    "def helper(s, i, slate, result):\n",
    "    result.append(''.join(slate))  # Add the current subset (slate) to result\n",
    "    \n",
    "    for j in range(i, len(s)):\n",
    "        if j > i and s[j] == s[j - 1]:  # Skip duplicates\n",
    "            continue\n",
    "        slate.append(s[j])\n",
    "        helper(s, j + 1, slate, result)  # Include the current character and move to next\n",
    "        slate.pop()  # Backtrack\n",
    "\n",
    "# Example usage\n",
    "s = \"aab\"\n",
    "print(subsets_with_duplicates(s))"
   ]
  },
  {
   "cell_type": "code",
   "execution_count": 105,
   "id": "0677a294",
   "metadata": {},
   "outputs": [
    {
     "data": {
      "text/plain": [
       "8"
      ]
     },
     "execution_count": 105,
     "metadata": {},
     "output_type": "execute_result"
    }
   ],
   "source": [
    "\n",
    "def calculate_power(a, b):\n",
    "    if b==0:\n",
    "        return 1\n",
    "    temp=calculate_power(a, b//2)\n",
    "    temp=temp*temp\n",
    "    if b%2==0:\n",
    "        return temp\n",
    "    else:\n",
    "        return temp*a\n",
    "calculate_power(2, 3)        "
   ]
  },
  {
   "cell_type": "code",
   "execution_count": null,
   "id": "8451f673",
   "metadata": {},
   "outputs": [],
   "source": [
    "\n",
    "def get_words_from_phone_number(phone_number):\n",
    "\n",
    "    digit_mapping = {\n",
    "        '2': \"abc\",\n",
    "        '3': \"def\",\n",
    "        '4': \"ghi\",\n",
    "        '5': \"jkl\",\n",
    "        '6': \"mno\",\n",
    "        '7': \"pqrs\",\n",
    "        '8': \"tuv\",\n",
    "        '9': \"wxyz\"\n",
    "    }\n",
    "    result =[]\n",
    "    modified_number = ''.join([c for c in phone_number if c != '0' and c != '1'])\n",
    "    if not modified_number:\n",
    "        result.append(\"\")\n",
    "    else:\n",
    "        helper(modified_number, result, digit_mapping, 0, \"\")\n",
    "\n",
    "    return result\n",
    "    \n",
    "def helper(phone_number,result,digit_mapping, i,word):\n",
    "    \n",
    "    if i == len(phone_number):\n",
    "        result.append(word)\n",
    "        return\n",
    "\n",
    "    letters = digit_mapping[phone_number[i]]\n",
    "\n",
    "    for letter in letters:\n",
    "        helper(phone_number, result, digit_mapping, i + 1, word + letter)"
   ]
  }
 ],
 "metadata": {
  "kernelspec": {
   "display_name": "Python 3 (ipykernel)",
   "language": "python",
   "name": "python3"
  },
  "language_info": {
   "codemirror_mode": {
    "name": "ipython",
    "version": 3
   },
   "file_extension": ".py",
   "mimetype": "text/x-python",
   "name": "python",
   "nbconvert_exporter": "python",
   "pygments_lexer": "ipython3",
   "version": "3.9.12"
  }
 },
 "nbformat": 4,
 "nbformat_minor": 5
}

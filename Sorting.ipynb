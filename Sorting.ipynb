{
 "cells": [
  {
   "cell_type": "markdown",
   "id": "1ee2fbc1",
   "metadata": {},
   "source": [
    "### Selection Sort"
   ]
  },
  {
   "cell_type": "code",
   "execution_count": 23,
   "id": "9c595664",
   "metadata": {},
   "outputs": [
    {
     "data": {
      "text/plain": [
       "[2, 3, 4, 5, 7, 7, 7, 8, 9, 21, 32, 45, 65]"
      ]
     },
     "execution_count": 23,
     "metadata": {},
     "output_type": "execute_result"
    }
   ],
   "source": [
    "def selectionsort(A):\n",
    "    n=len(A)\n",
    "    for i in range(n):\n",
    "        minval=A[i]\n",
    "        minindex = i\n",
    "        for j in range(i+1,n):\n",
    "            if A[j]<minval:\n",
    "                minval=A[j]\n",
    "                minindex=j\n",
    "        A[i],A[minindex]=A[minindex], A[i]\n",
    "    return A\n",
    "\n",
    "A = [7,5,8,2,9,7,65,4,7,32,21,45,3]\n",
    "selectionsort(A)"
   ]
  },
  {
   "cell_type": "markdown",
   "id": "7d30487c",
   "metadata": {},
   "source": [
    "### bubble Sort"
   ]
  },
  {
   "cell_type": "code",
   "execution_count": 24,
   "id": "43d6d485",
   "metadata": {},
   "outputs": [
    {
     "data": {
      "text/plain": [
       "[2, 3, 4, 5, 7, 7, 7, 8, 9, 21, 32, 45, 65]"
      ]
     },
     "execution_count": 24,
     "metadata": {},
     "output_type": "execute_result"
    }
   ],
   "source": [
    "def bubblesort(arr):    \n",
    "    for i in range(len(arr)):\n",
    "        for j in range(len(arr)-1, i, -1):\n",
    "            if arr[j - 1] > arr[j]:\n",
    "                (arr[j - 1], arr[j]) = (arr[j], arr[j - 1])\n",
    "\n",
    "    return arr\n",
    "\n",
    "arr = [7,5,8,2,9,7,65,4,7,32,21,45,3]\n",
    "bubblesort(arr)"
   ]
  },
  {
   "cell_type": "markdown",
   "id": "28e8ac79",
   "metadata": {},
   "source": [
    "### Insertion sort"
   ]
  },
  {
   "cell_type": "code",
   "execution_count": 26,
   "id": "e39fb3d9",
   "metadata": {},
   "outputs": [
    {
     "data": {
      "text/plain": [
       "[2, 3, 4, 5, 7, 7, 7, 8, 9, 21, 32, 45, 65]"
      ]
     },
     "execution_count": 26,
     "metadata": {},
     "output_type": "execute_result"
    }
   ],
   "source": [
    "def insertionsort(arr):\n",
    "    n=len(arr)\n",
    "    for i in range(n):    \n",
    "        temp = arr[i]\n",
    "        j=i-1\n",
    "        while j>=0 and  arr[j]>temp:\n",
    "            arr[j+1]=arr[j]\n",
    "            j-=1\n",
    "        arr[j+1]=temp\n",
    "    return arr\n",
    "\n",
    "arr = [7,5,8,2,9,7,65,4,7,32,21,45,3]\n",
    "insertionsort(arr)"
   ]
  },
  {
   "cell_type": "markdown",
   "id": "da54878e",
   "metadata": {},
   "source": [
    "### Quick sort using HOARE's partitioning"
   ]
  },
  {
   "cell_type": "code",
   "execution_count": 2,
   "id": "96338cba",
   "metadata": {},
   "outputs": [
    {
     "data": {
      "text/plain": [
       "[2, 3, 4, 5, 7, 7, 7, 8, 9, 21, 32, 45, 65]"
      ]
     },
     "execution_count": 2,
     "metadata": {},
     "output_type": "execute_result"
    }
   ],
   "source": [
    "import random\n",
    "def quick_sort(arr):\n",
    "    \"\"\"\n",
    "    Args:\n",
    "     arr(list_int32)\n",
    "    Returns:\n",
    "     list_int32\n",
    "    \"\"\"\n",
    "    helper(arr,0,len(arr)-1)\n",
    "    return arr\n",
    "    \n",
    "def helper(arr, start,end):\n",
    "    if start>=end:\n",
    "        return\n",
    "    pivot = random.randint(start, end)\n",
    "    arr[pivot],arr[start]=arr[start],arr[pivot]\n",
    "    small=start+1\n",
    "    big=end\n",
    "    while small<=big:\n",
    "        if arr[small]<arr[start]:\n",
    "            small+=1\n",
    "        elif arr[big]>arr[start]:\n",
    "            big-=1\n",
    "        else:\n",
    "            arr[small],arr[big]=arr[big],arr[small]\n",
    "            small+=1\n",
    "            big-=1\n",
    "    arr[start],arr[big]=arr[big],arr[start]\n",
    "    helper(arr,start,big-1)\n",
    "    helper(arr,big+1,end)\n",
    "    \n",
    "    \n",
    "arr = [7,5,8,2,9,7,65,4,7,32,21,45,3]\n",
    "quick_sort(arr)"
   ]
  },
  {
   "cell_type": "code",
   "execution_count": null,
   "id": "95d64751",
   "metadata": {},
   "outputs": [],
   "source": []
  }
 ],
 "metadata": {
  "kernelspec": {
   "display_name": "Python 3 (ipykernel)",
   "language": "python",
   "name": "python3"
  },
  "language_info": {
   "codemirror_mode": {
    "name": "ipython",
    "version": 3
   },
   "file_extension": ".py",
   "mimetype": "text/x-python",
   "name": "python",
   "nbconvert_exporter": "python",
   "pygments_lexer": "ipython3",
   "version": "3.9.12"
  }
 },
 "nbformat": 4,
 "nbformat_minor": 5
}
